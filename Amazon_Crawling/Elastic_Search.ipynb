{
  "cells": [
    {
      "cell_type": "code",
      "execution_count": null,
      "metadata": {
        "colab": {
          "base_uri": "https://localhost:8080/"
        },
        "id": "bMUACYzDiBNE",
        "outputId": "8c9912dc-9bf3-4208-eb15-244a1bea7c00"
      },
      "outputs": [
        {
          "name": "stdout",
          "output_type": "stream",
          "text": [
            "Collecting Elasticsearch\n",
            "  Downloading elasticsearch-8.11.1-py3-none-any.whl (412 kB)\n",
            "\u001b[?25l     \u001b[90m━━━━━━━━━━━━━━━━━━━━━━━━━━━━━━━━━━━━━━━━\u001b[0m \u001b[32m0.0/412.8 kB\u001b[0m \u001b[31m?\u001b[0m eta \u001b[36m-:--:--\u001b[0m\r\u001b[2K     \u001b[91m━━━━━━━━━━\u001b[0m\u001b[91m╸\u001b[0m\u001b[90m━━━━━━━━━━━━━━━━━━━━━━━━━━━━━\u001b[0m \u001b[32m112.6/412.8 kB\u001b[0m \u001b[31m3.2 MB/s\u001b[0m eta \u001b[36m0:00:01\u001b[0m\r\u001b[2K     \u001b[91m━━━━━━━━━━━━━━━━━━━━━━━━━━━━━━━━━━━━━━━\u001b[0m\u001b[91m╸\u001b[0m \u001b[32m409.6/412.8 kB\u001b[0m \u001b[31m6.6 MB/s\u001b[0m eta \u001b[36m0:00:01\u001b[0m\r\u001b[2K     \u001b[90m━━━━━━━━━━━━━━━━━━━━━━━━━━━━━━━━━━━━━━━━\u001b[0m \u001b[32m412.8/412.8 kB\u001b[0m \u001b[31m5.5 MB/s\u001b[0m eta \u001b[36m0:00:00\u001b[0m\n",
            "\u001b[?25hCollecting elastic-transport<9,>=8 (from Elasticsearch)\n",
            "  Downloading elastic_transport-8.11.0-py3-none-any.whl (59 kB)\n",
            "\u001b[2K     \u001b[90m━━━━━━━━━━━━━━━━━━━━━━━━━━━━━━━━━━━━━━━━\u001b[0m \u001b[32m59.8/59.8 kB\u001b[0m \u001b[31m6.2 MB/s\u001b[0m eta \u001b[36m0:00:00\u001b[0m\n",
            "\u001b[?25hRequirement already satisfied: urllib3<3,>=1.26.2 in /usr/local/lib/python3.10/dist-packages (from elastic-transport<9,>=8->Elasticsearch) (2.0.7)\n",
            "Requirement already satisfied: certifi in /usr/local/lib/python3.10/dist-packages (from elastic-transport<9,>=8->Elasticsearch) (2023.11.17)\n",
            "Installing collected packages: elastic-transport, Elasticsearch\n",
            "Successfully installed Elasticsearch-8.11.1 elastic-transport-8.11.0\n"
          ]
        }
      ],
      "source": [
        "!pip install Elasticsearch"
      ]
    },
    {
      "cell_type": "code",
      "execution_count": null,
      "metadata": {
        "id": "CYoo3mAigt5B"
      },
      "outputs": [],
      "source": [
        "from elasticsearch import Elasticsearch\n",
        "import datetime\n",
        "import json"
      ]
    },
    {
      "cell_type": "code",
      "execution_count": null,
      "metadata": {
        "id": "Gqzo9ExAhGzq"
      },
      "outputs": [],
      "source": [
        "API_KEY = 'your API KEY'\n",
        "CLOUD_ID = 'your CLOUD ID'"
      ]
    },
    {
      "cell_type": "code",
      "execution_count": null,
      "metadata": {
        "id": "ByANmlnAhOWM"
      },
      "outputs": [],
      "source": [
        "es = Elasticsearch(cloud_id=CLOUD_ID, api_key=API_KEY)"
      ]
    },
    {
      "cell_type": "code",
      "execution_count": null,
      "metadata": {
        "colab": {
          "base_uri": "https://localhost:8080/"
        },
        "id": "WV9L4hi2iMUL",
        "outputId": "b73fb29c-066f-41b5-aa1d-f6f1f48c9fee"
      },
      "outputs": [
        {
          "data": {
            "text/plain": [
              "ObjectApiResponse({'name': 'instance-0000000000', 'cluster_name': '4d21d4ca20cf4bc3b76dcfbb50d493b1', 'cluster_uuid': 'hksY2PJySze3Y-hK2vwrRQ', 'version': {'number': '8.11.3', 'build_flavor': 'default', 'build_type': 'docker', 'build_hash': '64cf052f3b56b1fd4449f5454cb88aca7e739d9a', 'build_date': '2023-12-08T11:33:53.634979452Z', 'build_snapshot': False, 'lucene_version': '9.8.0', 'minimum_wire_compatibility_version': '7.17.0', 'minimum_index_compatibility_version': '7.0.0'}, 'tagline': 'You Know, for Search'})"
            ]
          },
          "execution_count": 6,
          "metadata": {},
          "output_type": "execute_result"
        }
      ],
      "source": [
        "es.info()"
      ]
    },
    {
      "cell_type": "code",
      "execution_count": null,
      "metadata": {
        "colab": {
          "base_uri": "https://localhost:8080/"
        },
        "id": "JmQdgZIG1OFc",
        "outputId": "577ebcd6-d940-414c-a83d-654e1d40c742"
      },
      "outputs": [
        {
          "data": {
            "text/plain": [
              "ObjectApiResponse({'_shards': {'total': 2, 'successful': 2, 'failed': 0}})"
            ]
          },
          "execution_count": 39,
          "metadata": {},
          "output_type": "execute_result"
        }
      ],
      "source": [
        "import json\n",
        "from elasticsearch import Elasticsearch\n",
        "\n",
        "json_file_path = \"test.json\"\n",
        "index_name = \"index4\"\n",
        "\n",
        "with open(json_file_path, \"r\") as json_file:\n",
        "    data = json.load(json_file)\n",
        "\n",
        "for item in data:\n",
        "    for document_type, document_body in item.items():\n",
        "        document_body[\"price\"] = int(document_body[\"price\"])\n",
        "\n",
        "        document_body[\"rating\"] = float(document_body[\"rating\"])\n",
        "\n",
        "        es.index(index=index_name, document=document_body)\n",
        "\n",
        "es.indices.refresh(index=index_name)"
      ]
    },
    {
      "cell_type": "code",
      "execution_count": null,
      "metadata": {
        "id": "-ciacfajtldI"
      },
      "outputs": [],
      "source": [
        "search_query1 = {\n",
        "    \"query\": {\n",
        "        \"range\": {\n",
        "            \"price\": {\n",
        "                \"gte\": 100,\n",
        "                \"lte\": 200\n",
        "            }\n",
        "        }\n",
        "    }\n",
        "}\n",
        "\n",
        "search_results = es.search(index=index_name, body=search_query1)"
      ]
    },
    {
      "cell_type": "code",
      "execution_count": null,
      "metadata": {
        "id": "wagd3wpd2cAr"
      },
      "outputs": [],
      "source": [
        "search_query2 = {\n",
        "    \"query\": {\n",
        "        \"range\": {\n",
        "            \"rating\": {\n",
        "                \"gte\": 4.2,\n",
        "                \"lte\": 5.0\n",
        "            }\n",
        "        }\n",
        "    }\n",
        "}\n",
        "\n",
        "search_results = es.search(index=index_name, body=search_query2)"
      ]
    },
    {
      "cell_type": "code",
      "execution_count": null,
      "metadata": {
        "id": "-osOAlIM3MNK"
      },
      "outputs": [],
      "source": [
        "search_query3 = {\n",
        "    \"query\": {\n",
        "        \"bool\": {\n",
        "            \"must\": [\n",
        "                {\"match\": {\"description\": \"bluetooth\"}},\n",
        "                {\"match\": {\"description\": \"phone\"}}\n",
        "            ]\n",
        "        }\n",
        "    }\n",
        "}\n",
        "\n",
        "search_results = es.search(index=index_name, body=search_query3)"
      ]
    },
    {
      "cell_type": "code",
      "execution_count": null,
      "metadata": {
        "id": "jI-Quon14G4u"
      },
      "outputs": [],
      "source": [
        "search_query4 = {\n",
        "    \"query\": {\n",
        "        \"bool\": {\n",
        "            \"must\": [\n",
        "                {\"match\": {\"name\": \"gaming\"}},\n",
        "                {\"range\": {\"rating\": {\"gte\": 4.5}}}\n",
        "            ]\n",
        "        }\n",
        "    }\n",
        "}\n",
        "\n",
        "search_results = es.search(index=index_name, body=search_query4)"
      ]
    },
    {
      "cell_type": "code",
      "execution_count": null,
      "metadata": {
        "id": "YSdxuREc2d6v"
      },
      "outputs": [],
      "source": [
        "search_query5 = {\n",
        "    \"query\": {\n",
        "        \"bool\": {\n",
        "            \"should\": [\n",
        "                {\"terms\": {\"reviews\": ['noise', 'comfortable', 'battery', 'quality']}}\n",
        "            ]\n",
        "        }\n",
        "    }\n",
        "}\n",
        "\n",
        "search_results = es.search(index=index_name, body=search_query5)"
      ]
    },
    {
      "cell_type": "code",
      "execution_count": null,
      "metadata": {
        "id": "ThA8_61Q53_B"
      },
      "outputs": [],
      "source": [
        "matched_items = []\n",
        "\n",
        "for hit in search_results['hits']['hits']:\n",
        "    item = hit['_source']\n",
        "    matched_items.append(item)"
      ]
    },
    {
      "cell_type": "code",
      "execution_count": null,
      "metadata": {
        "id": "RfWOOBoX59Al"
      },
      "outputs": [],
      "source": [
        "for item in matched_items:\n",
        "  print(item)"
      ]
    },
    {
      "cell_type": "code",
      "execution_count": null,
      "metadata": {
        "colab": {
          "base_uri": "https://localhost:8080/"
        },
        "id": "j773pBCK6UKA",
        "outputId": "ed0e2b6e-aed7-45fb-eba4-d9ae2f4e268b"
      },
      "outputs": [
        {
          "name": "stdout",
          "output_type": "stream",
          "text": [
            "Matched items saved to matched_items_Q#5.json\n"
          ]
        }
      ],
      "source": [
        "output_file_path = \"matched_items_Q#5.json\"\n",
        "\n",
        "json_data = json.dumps(matched_items, indent=2)\n",
        "\n",
        "with open(output_file_path, \"w\") as output_file:\n",
        "    output_file.write(json_data)\n",
        "\n",
        "print(f\"Matched items saved to {output_file_path}\")"
      ]
    }
  ],
  "metadata": {
    "colab": {
      "provenance": []
    },
    "kernelspec": {
      "display_name": "Python 3",
      "name": "python3"
    },
    "language_info": {
      "name": "python"
    }
  },
  "nbformat": 4,
  "nbformat_minor": 0
}
